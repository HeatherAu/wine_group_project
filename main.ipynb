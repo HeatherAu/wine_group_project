{
 "cells": [
  {
   "cell_type": "markdown",
   "id": "bdcaa19d-354a-4e51-8f0b-f349c25a4ae5",
   "metadata": {},
   "source": [
    "**DSCI GROUP PROPOSAL**"
   ]
  },
  {
   "cell_type": "markdown",
   "id": "7863d0b8-e381-46ce-8e32-a21c5f4245b6",
   "metadata": {},
   "source": [
    "Contributors:\n",
    "12981056 - Heather Au \n",
    " - Connor Moynihan"
   ]
  },
  {
   "cell_type": "code",
   "execution_count": 1,
   "id": "369c24e8-b91e-43d8-8702-7d4f5c194acd",
   "metadata": {},
   "outputs": [
    {
     "name": "stderr",
     "output_type": "stream",
     "text": [
      "── \u001b[1mAttaching core tidyverse packages\u001b[22m ──────────────────────── tidyverse 2.0.0 ──\n",
      "\u001b[32m✔\u001b[39m \u001b[34mdplyr    \u001b[39m 1.1.3     \u001b[32m✔\u001b[39m \u001b[34mreadr    \u001b[39m 2.1.4\n",
      "\u001b[32m✔\u001b[39m \u001b[34mforcats  \u001b[39m 1.0.0     \u001b[32m✔\u001b[39m \u001b[34mstringr  \u001b[39m 1.5.0\n",
      "\u001b[32m✔\u001b[39m \u001b[34mggplot2  \u001b[39m 3.4.4     \u001b[32m✔\u001b[39m \u001b[34mtibble   \u001b[39m 3.2.1\n",
      "\u001b[32m✔\u001b[39m \u001b[34mlubridate\u001b[39m 1.9.3     \u001b[32m✔\u001b[39m \u001b[34mtidyr    \u001b[39m 1.3.0\n",
      "\u001b[32m✔\u001b[39m \u001b[34mpurrr    \u001b[39m 1.0.2     \n",
      "── \u001b[1mConflicts\u001b[22m ────────────────────────────────────────── tidyverse_conflicts() ──\n",
      "\u001b[31m✖\u001b[39m \u001b[34mdplyr\u001b[39m::\u001b[32mfilter()\u001b[39m masks \u001b[34mstats\u001b[39m::filter()\n",
      "\u001b[31m✖\u001b[39m \u001b[34mdplyr\u001b[39m::\u001b[32mlag()\u001b[39m    masks \u001b[34mstats\u001b[39m::lag()\n",
      "\u001b[36mℹ\u001b[39m Use the conflicted package (\u001b[3m\u001b[34m<http://conflicted.r-lib.org/>\u001b[39m\u001b[23m) to force all conflicts to become errors\n",
      "Warning message in file(filename, \"r\", encoding = encoding):\n",
      "“cannot open file 'tests.R': No such file or directory”\n"
     ]
    },
    {
     "ename": "ERROR",
     "evalue": "Error in file(filename, \"r\", encoding = encoding): cannot open the connection\n",
     "output_type": "error",
     "traceback": [
      "Error in file(filename, \"r\", encoding = encoding): cannot open the connection\nTraceback:\n",
      "1. source(\"tests.R\")",
      "2. file(filename, \"r\", encoding = encoding)"
     ]
    }
   ],
   "source": [
    "library(tidyverse)\n",
    "library(repr)\n",
    "library(ggplot2)\n",
    "options(repr.matrix.max.rows = 6)\n",
    "source(\"tests.R\")\n",
    "source(\"cleanup.R\")"
   ]
  },
  {
   "cell_type": "markdown",
   "id": "0c8b78ab-298f-42e1-a684-c5279e9784e7",
   "metadata": {},
   "source": [
    "**Introduction**"
   ]
  },
  {
   "cell_type": "markdown",
   "id": "ecfe05fa-c1bd-4a5c-8dfc-2ad6ea725a2f",
   "metadata": {},
   "source": [
    "*Provide some relevant background information on the topic so that someone unfamiliar with it will be prepared to understand the rest of your proposal. \n",
    "Clearly state the question you will try to answer with your projec. \r\n",
    "Identify and describe the dataset that will be used to answer the question*\n",
    "\n",
    "> In the data set there are 3 types of wines in Italy and 13 different attributes of the wine that describe the wines. It is a combination of statistical data, like alcohol, ash, and chemical content, as well as observational data, like color and hue. We will attempt to identify and classify the three seperate regions of wine based on these identifiers.\n"
   ]
  },
  {
   "cell_type": "markdown",
   "id": "a139ad1e-8b82-496a-9648-a7bf43b3d842",
   "metadata": {},
   "source": [
    "**Preliminary Exploratory Data Analysis**"
   ]
  },
  {
   "cell_type": "markdown",
   "id": "54647e4a-fa57-4210-91df-b23265d68d9a",
   "metadata": {},
   "source": [
    "*Demonstrate that the dataset can be read from the web into R. Clean and wrangle your data into a tidy format*"
   ]
  },
  {
   "cell_type": "code",
   "execution_count": null,
   "id": "a7618aa3-5778-4b20-80b9-a58631e81b1f",
   "metadata": {},
   "outputs": [],
   "source": [
    "wine <- read_csv(\"wine.csv\")\n",
    "wine "
   ]
  },
  {
   "cell_type": "code",
   "execution_count": null,
   "id": "5b40746f-c7c1-4a02-837d-97a83e4cf109",
   "metadata": {},
   "outputs": [],
   "source": [
    "wine_plot <- wine |>\n",
    "   ggplot( aes(x = Alcohol, y = Hue, color = as.factor(Wine))) + \n",
    "       geom_point() +\n",
    "       labs(\n",
    "           x = \"Alcohol Content\",\n",
    "           y = \"Color of Wine\",\n",
    "           fill = \"Region of Wine\") +\n",
    "       theme(text = element_text(size=20))\n",
    "wine_plot"
   ]
  },
  {
   "cell_type": "markdown",
   "id": "6ba170cb-6705-43c5-ac70-099a8c3e7960",
   "metadata": {},
   "source": [
    "*Using only training data, summarize the data in at least one table (this is exploratory data analysis). An example of a useful table could be one that reports the number of observations in each class, the means of the predictor variables you plan to use in your analysis and how many rows have missing data.*"
   ]
  },
  {
   "cell_type": "markdown",
   "id": "7524ab4d-f2d8-427b-8e23-9f1b09ab40be",
   "metadata": {},
   "source": [
    "*Using only training data, visualize the data with at least one plot relevant to the analysis you plan to do (this is exploratory data analysis). An example of a useful visualization could be one that compares the distributions of each of the predictor variables you plan to use in your analysis.*"
   ]
  },
  {
   "cell_type": "markdown",
   "id": "ab4d7b84-60e2-4698-929c-ecab23306f7d",
   "metadata": {},
   "source": [
    "**Method**"
   ]
  },
  {
   "cell_type": "markdown",
   "id": "2cea6721-91b1-49bf-be78-56193f947f9f",
   "metadata": {},
   "source": [
    "*Explain how you will conduct either your data analysis and which variables/columns you will use. Note - you do not need to use all variables/columns that exist in the raw data set. In fact, that's often not a good idea. For each variable think: is this a useful variable for prediction? Describe at least one way that you will visualize the results.*"
   ]
  },
  {
   "cell_type": "markdown",
   "id": "f6e58ee6-f984-4507-b312-49c14dad6027",
   "metadata": {},
   "source": [
    "**Expected Outcomes and Significance**"
   ]
  },
  {
   "cell_type": "markdown",
   "id": "09cd2274-066d-4078-9298-ce9d0837a66a",
   "metadata": {},
   "source": [
    "*What do you expect to find? What impact could such findings have? What future questions could this lead to?*"
   ]
  },
  {
   "cell_type": "code",
   "execution_count": null,
   "id": "822a8303-5e4b-4558-a3ef-eda8e46cbdd6",
   "metadata": {},
   "outputs": [],
   "source": []
  }
 ],
 "metadata": {
  "kernelspec": {
   "display_name": "R",
   "language": "R",
   "name": "ir"
  },
  "language_info": {
   "codemirror_mode": "r",
   "file_extension": ".r",
   "mimetype": "text/x-r-source",
   "name": "R",
   "pygments_lexer": "r",
   "version": "4.3.1"
  }
 },
 "nbformat": 4,
 "nbformat_minor": 5
}
